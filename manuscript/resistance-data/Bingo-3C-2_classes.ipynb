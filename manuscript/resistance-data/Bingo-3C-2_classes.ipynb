{
 "cells": [
  {
   "cell_type": "code",
   "execution_count": 13,
   "metadata": {},
   "outputs": [],
   "source": [
    "import pandas as pd\n",
    "true_label = pd.read_csv(\"./responses-carb.csv\")\n",
    "true_label = true_label[\"class\"]\n",
    "true_label = true_label.tolist()"
   ]
  },
  {
   "cell_type": "code",
   "execution_count": 14,
   "metadata": {},
   "outputs": [],
   "source": [
    "import numpy as np\n",
    "from scipy.stats import mode\n",
    "\n",
    "# Assuming you have an array of 500 numbers stored in the variable 'numbers'\n",
    "def get_accuracy(numbers):\n",
    "    chunk_size = 100\n",
    "    num_chunks = len(numbers) // chunk_size\n",
    "\n",
    "    modes = []\n",
    "\n",
    "    for i in range(num_chunks):\n",
    "        chunk = numbers[i * chunk_size: (i + 1) * chunk_size]\n",
    "        mode_result = mode(chunk)\n",
    "        mode_value = mode_result.mode\n",
    "        mode_count = mode_result.count\n",
    "        modes.append((mode_value, mode_count))\n",
    "\n",
    "    print(modes)"
   ]
  },
  {
   "cell_type": "code",
   "execution_count": 15,
   "metadata": {},
   "outputs": [
    {
     "name": "stderr",
     "output_type": "stream",
     "text": [
      "/Users/samoz/anaconda3/envs/popPUNK/lib/python3.10/site-packages/sklearn/cluster/_kmeans.py:870: FutureWarning: The default value of `n_init` will change from 10 to 'auto' in 1.4. Set the value of `n_init` explicitly to suppress the warning\n",
      "  warnings.warn(\n",
      "/var/folders/lc/0z23271x6psf843t9hvy87zw0000gn/T/ipykernel_27029/1335178793.py:8: ConvergenceWarning: Number of distinct clusters (1) found smaller than n_clusters (2). Possibly due to duplicate points in X.\n",
      "  kmeans.fit(similarity_matrix)\n"
     ]
    }
   ],
   "source": [
    "import pandas as pd\n",
    "import numpy as np\n",
    "from sklearn.cluster import KMeans\n",
    "data = pd.read_csv('similarity-matrix-k=3.csv')\n",
    "similarity_matrix = data.drop(columns=['Unnamed: 0']) \n",
    "k = 2  # Number of clusters\n",
    "kmeans = KMeans(n_clusters=2, random_state=0)\n",
    "kmeans.fit(similarity_matrix)\n",
    "kmeans_labels = np.array(kmeans.labels_)\n",
    "# kmeans_labels"
   ]
  },
  {
   "cell_type": "code",
   "execution_count": 16,
   "metadata": {},
   "outputs": [
    {
     "name": "stderr",
     "output_type": "stream",
     "text": [
      "/Users/samoz/anaconda3/envs/popPUNK/lib/python3.10/site-packages/sklearn/mixture/_base.py:119: ConvergenceWarning: Number of distinct clusters (1) found smaller than n_clusters (2). Possibly due to duplicate points in X.\n",
      "  .fit(X)\n"
     ]
    }
   ],
   "source": [
    "from sklearn.mixture import GaussianMixture as GMM\n",
    "gmm = GMM(n_components=2, random_state=0).fit(similarity_matrix)\n",
    "gmm_labels = gmm.predict(similarity_matrix)\n",
    "# gmm_labels"
   ]
  },
  {
   "cell_type": "code",
   "execution_count": 17,
   "metadata": {},
   "outputs": [
    {
     "name": "stderr",
     "output_type": "stream",
     "text": [
      "/Users/samoz/anaconda3/envs/popPUNK/lib/python3.10/site-packages/sklearn/cluster/_spectral.py:717: UserWarning: The spectral clustering API has changed. ``fit``now constructs an affinity matrix from data. To use a custom affinity matrix, set ``affinity=precomputed``.\n",
      "  warnings.warn(\n"
     ]
    },
    {
     "data": {
      "text/plain": [
       "array([0, 0, 0, 0, 0, 0, 0, 0, 0, 0, 0, 0, 0, 0, 0, 0, 0, 0, 0, 0, 0, 0,\n",
       "       0, 0, 0, 0, 0, 0, 0, 0, 0, 0, 0, 0, 0, 0, 0, 0, 0, 0, 0, 0, 0, 0,\n",
       "       0, 0, 0, 0, 0, 0, 0, 0, 0, 0, 0, 0, 0, 0, 0, 1, 0, 0, 0, 0, 0, 0,\n",
       "       0, 0, 0, 0, 0, 0, 0, 0, 0, 0, 0, 0, 0, 0, 0, 0, 0, 0, 0, 0, 0, 0,\n",
       "       0, 0, 0, 0, 0, 0, 0, 0, 0, 0, 0, 0, 0, 0, 0, 0, 0, 0, 0, 0, 0, 1,\n",
       "       0, 0, 0, 0, 0, 0, 0, 0, 0, 0, 0, 0], dtype=int32)"
      ]
     },
     "execution_count": 17,
     "metadata": {},
     "output_type": "execute_result"
    }
   ],
   "source": [
    "from sklearn.cluster import SpectralClustering\n",
    "spectral_clustering = SpectralClustering(n_clusters=2,random_state=0)\n",
    "spectral_clustering.fit(similarity_matrix)\n",
    "spectral_labels = spectral_clustering.labels_\n",
    "spectral_labels"
   ]
  },
  {
   "cell_type": "code",
   "execution_count": 18,
   "metadata": {},
   "outputs": [
    {
     "name": "stdout",
     "output_type": "stream",
     "text": [
      "[(0, 100)]\n"
     ]
    }
   ],
   "source": [
    "get_accuracy(kmeans_labels)"
   ]
  },
  {
   "cell_type": "code",
   "execution_count": 19,
   "metadata": {},
   "outputs": [
    {
     "name": "stdout",
     "output_type": "stream",
     "text": [
      "[(0, 100)]\n"
     ]
    }
   ],
   "source": [
    "get_accuracy(gmm_labels)"
   ]
  },
  {
   "cell_type": "code",
   "execution_count": 20,
   "metadata": {},
   "outputs": [
    {
     "name": "stdout",
     "output_type": "stream",
     "text": [
      "[(0, 99)]\n"
     ]
    }
   ],
   "source": [
    "get_accuracy(spectral_labels)"
   ]
  },
  {
   "cell_type": "code",
   "execution_count": 24,
   "metadata": {},
   "outputs": [
    {
     "name": "stderr",
     "output_type": "stream",
     "text": [
      "/Users/samoz/anaconda3/envs/popPUNK/lib/python3.10/site-packages/sklearn/decomposition/_pca.py:545: RuntimeWarning: invalid value encountered in divide\n",
      "  explained_variance_ratio_ = explained_variance_ / total_var\n"
     ]
    }
   ],
   "source": [
    "import numpy as np\n",
    "from sklearn.decomposition import PCA\n",
    "import matplotlib.pyplot as plt\n",
    "import csv\n",
    "\n",
    "# Assuming you have a similarity matrix stored in the variable 'similarity_matrix'\n",
    "# Create an instance of PCA\n",
    "pca = PCA(n_components=3) \n",
    "\n",
    "# Apply PCA on the similarity matrix\n",
    "principal_components = pca.fit_transform(similarity_matrix)\n",
    "\n",
    "# Get the PC1 and PC2 values\n",
    "pc1 = principal_components[:, 0]\n",
    "pc2 = principal_components[:, 1]\n",
    "pc3 = principal_components[:, 2]\n",
    "\n",
    "column_names = ['true_label', 'pc1', 'pc2', 'gmm_result', 'kmeans_result', 'spectral_result']\n",
    "rows = zip(true_label, pc1, pc2, gmm_labels, kmeans_labels, spectral_labels)\n",
    "\n",
    "# Specify the file name\n",
    "filename = 'bingo3c_result.csv'\n",
    "\n",
    "# Write the data to the CSV file\n",
    "with open(filename, mode='w', newline='') as file:\n",
    "    writer = csv.writer(file)\n",
    "    \n",
    "    # Write the column names\n",
    "    writer.writerow(column_names)\n",
    "    \n",
    "    # Write the data rows\n",
    "    writer.writerows(rows)"
   ]
  },
  {
   "cell_type": "code",
   "execution_count": 27,
   "metadata": {},
   "outputs": [
    {
     "name": "stdout",
     "output_type": "stream",
     "text": [
      "0.9508196721311475\n",
      "0.9508196721311475\n",
      "0.9344262295081968\n"
     ]
    }
   ],
   "source": [
    "verify = pd.read_csv('bingo3c_result.csv')\n",
    "print(sum(verify['true_label'] == verify['kmeans_result'])/len(verify['true_label']))\n",
    "print(sum(verify['true_label'] == verify['gmm_result'])/len(verify['true_label']))\n",
    "print(sum(verify['true_label'] == verify['spectral_result'])/len(verify['true_label']))"
   ]
  }
 ],
 "metadata": {
  "kernelspec": {
   "display_name": "Python 3",
   "language": "python",
   "name": "python3"
  },
  "language_info": {
   "codemirror_mode": {
    "name": "ipython",
    "version": 3
   },
   "file_extension": ".py",
   "mimetype": "text/x-python",
   "name": "python",
   "nbconvert_exporter": "python",
   "pygments_lexer": "ipython3",
   "version": "3.10.12"
  },
  "orig_nbformat": 4
 },
 "nbformat": 4,
 "nbformat_minor": 2
}
