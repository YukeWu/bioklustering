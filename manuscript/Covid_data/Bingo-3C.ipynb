{
 "cells": [
  {
   "cell_type": "code",
   "execution_count": 55,
   "metadata": {},
   "outputs": [],
   "source": [
    "import csv\n",
    "\n",
    "true_label = []\n",
    "\n",
    "with open('size_500_test.csv', 'r') as file:\n",
    "    csv_reader = csv.reader(file)\n",
    "    for row in csv_reader:\n",
    "        true_label.append(int(row[0]))\n"
   ]
  },
  {
   "cell_type": "code",
   "execution_count": 56,
   "metadata": {},
   "outputs": [],
   "source": [
    "import numpy as np\n",
    "from scipy.stats import mode\n",
    "\n",
    "# Assuming you have an array of 500 numbers stored in the variable 'numbers'\n",
    "def get_accuracy(numbers):\n",
    "    chunk_size = 100\n",
    "    num_chunks = len(numbers) // chunk_size\n",
    "\n",
    "    modes = []\n",
    "\n",
    "    for i in range(num_chunks):\n",
    "        chunk = numbers[i * chunk_size: (i + 1) * chunk_size]\n",
    "        mode_result = mode(chunk)\n",
    "        mode_value = mode_result.mode[0]\n",
    "        mode_count = mode_result.count[0]\n",
    "        modes.append((mode_value, mode_count))\n",
    "\n",
    "    print(modes)"
   ]
  },
  {
   "cell_type": "code",
   "execution_count": 57,
   "metadata": {},
   "outputs": [],
   "source": [
    "import pandas as pd\n",
    "import numpy as np\n",
    "from sklearn.cluster import KMeans\n",
    "data = pd.read_csv('similarity-matrix-k=3.csv')\n",
    "similarity_matrix = data.drop(columns=['Unnamed: 0']) \n",
    "k = 5  # Number of clusters\n",
    "kmeans = KMeans(n_clusters=5, random_state=0)\n",
    "kmeans.fit(similarity_matrix)\n",
    "kmeans_labels = np.array(kmeans.labels_)\n",
    "# kmeans_labels"
   ]
  },
  {
   "cell_type": "code",
   "execution_count": 58,
   "metadata": {},
   "outputs": [],
   "source": [
    "from sklearn.mixture import GaussianMixture as GMM\n",
    "gmm = GMM(n_components=5, random_state=0).fit(similarity_matrix)\n",
    "gmm_labels = gmm.predict(similarity_matrix)\n",
    "# gmm_labels"
   ]
  },
  {
   "cell_type": "code",
   "execution_count": 59,
   "metadata": {},
   "outputs": [
    {
     "name": "stderr",
     "output_type": "stream",
     "text": [
      "/Users/yukewu/opt/anaconda3/lib/python3.8/site-packages/sklearn/cluster/_spectral.py:484: UserWarning: The spectral clustering API has changed. ``fit``now constructs an affinity matrix from data. To use a custom affinity matrix, set ``affinity=precomputed``.\n",
      "  warnings.warn(\"The spectral clustering API has changed. ``fit``\"\n"
     ]
    }
   ],
   "source": [
    "from sklearn.cluster import SpectralClustering\n",
    "spectral_clustering = SpectralClustering(n_clusters=5,random_state=0)\n",
    "spectral_clustering.fit(similarity_matrix)\n",
    "spectral_labels = spectral_clustering.labels_"
   ]
  },
  {
   "cell_type": "code",
   "execution_count": 60,
   "metadata": {},
   "outputs": [
    {
     "name": "stdout",
     "output_type": "stream",
     "text": [
      "[(2, 88), (0, 80), (3, 36), (1, 36), (4, 41)]\n"
     ]
    }
   ],
   "source": [
    "get_accuracy(kmeans_labels)\n",
    "# 2-->0, 0-->1, 3-->2, 1-->3, 4-->4\n",
    "kmeans_result = []\n",
    "for i in kmeans_labels:\n",
    "    if i == 2:\n",
    "        kmeans_result.append(0)\n",
    "    elif i == 0:\n",
    "        kmeans_result.append(1)\n",
    "    elif i == 3:\n",
    "        kmeans_result.append(2)\n",
    "    elif i == 1:\n",
    "        kmeans_result.append(3)\n",
    "    else:\n",
    "        kmeans_result.append(4)"
   ]
  },
  {
   "cell_type": "code",
   "execution_count": 61,
   "metadata": {},
   "outputs": [
    {
     "name": "stdout",
     "output_type": "stream",
     "text": [
      "[(4, 88), (1, 67), (0, 39), (2, 39), (2, 46)]\n"
     ]
    }
   ],
   "source": [
    "get_accuracy(gmm_labels)\n",
    "sum(gmm_labels[300:400] == 3)\n",
    "# 4-->0, 1-->1, 0-->2, 3-->3, 2-->4\n",
    "gmm_result = []\n",
    "for i in gmm_labels:\n",
    "    if i == 4:\n",
    "        gmm_result.append(0)\n",
    "    elif i == 1:\n",
    "        gmm_result.append(1)\n",
    "    elif i == 0:\n",
    "        gmm_result.append(2)\n",
    "    elif i == 3:\n",
    "        gmm_result.append(3)\n",
    "    else:\n",
    "        gmm_result.append(4)"
   ]
  },
  {
   "cell_type": "code",
   "execution_count": 62,
   "metadata": {},
   "outputs": [
    {
     "name": "stdout",
     "output_type": "stream",
     "text": [
      "[(2, 88), (1, 78), (3, 37), (4, 38), (4, 47)]\n",
      "25\n"
     ]
    }
   ],
   "source": [
    "get_accuracy(spectral_labels)\n",
    "print(sum(gmm_labels[300:400] == 0))\n",
    "# 2-->0, 1-->1, 3-->2, 0-->3, 4-->4\n",
    "spectral_result = []\n",
    "for i in spectral_labels:\n",
    "    if i == 2:\n",
    "        spectral_result.append(0)\n",
    "    elif i == 1:\n",
    "        spectral_result.append(1)\n",
    "    elif i == 3:\n",
    "        spectral_result.append(2)\n",
    "    elif i == 0:\n",
    "        spectral_result.append(3)\n",
    "    else:\n",
    "        spectral_result.append(4)"
   ]
  },
  {
   "cell_type": "code",
   "execution_count": 63,
   "metadata": {},
   "outputs": [
    {
     "data": {
      "image/png": "[encoded data removed]",
      "text/plain": [
       "<Figure size 432x288 with 1 Axes>"
      ]
     },
     "metadata": {
      "needs_background": "light"
     },
     "output_type": "display_data"
    }
   ],
   "source": [
    "import numpy as np\n",
    "from sklearn.decomposition import PCA\n",
    "import matplotlib.pyplot as plt\n",
    "\n",
    "# Assuming you have a similarity matrix stored in the variable 'similarity_matrix'\n",
    "\n",
    "# Create an instance of PCA\n",
    "pca = PCA(n_components=2) \n",
    "\n",
    "# Apply PCA on the similarity matrix\n",
    "principal_components = pca.fit_transform(similarity_matrix)\n",
    "\n",
    "# Get the PC1 and PC2 values\n",
    "pc1 = principal_components[:, 0]\n",
    "pc2 = principal_components[:, 1]\n",
    "\n",
    "plt.scatter(pc1, pc2)\n",
    "plt.xlabel('PC1')\n",
    "plt.ylabel('PC2')\n",
    "plt.title('Principal Components PC1 and PC2')\n",
    "plt.show()"
   ]
  },
  {
   "cell_type": "code",
   "execution_count": 64,
   "metadata": {},
   "outputs": [],
   "source": [
    "column_names = ['true_label', 'pc1', 'pc2', 'gmm_result', 'kmeans_result', 'spectral_result']\n",
    "rows = zip(true_label, pc1, pc2, gmm_result, kmeans_result, spectral_result)\n",
    "\n",
    "# Specify the file name\n",
    "filename = 'bingo3c_result.csv'\n",
    "\n",
    "# Write the data to the CSV file\n",
    "with open(filename, mode='w', newline='') as file:\n",
    "    writer = csv.writer(file)\n",
    "    \n",
    "    # Write the column names\n",
    "    writer.writerow(column_names)\n",
    "    \n",
    "    # Write the data rows\n",
    "    writer.writerows(rows)"
   ]
  },
  {
   "cell_type": "code",
   "execution_count": 65,
   "metadata": {},
   "outputs": [
    {
     "name": "stdout",
     "output_type": "stream",
     "text": [
      "281\n",
      "276\n",
      "278\n"
     ]
    }
   ],
   "source": [
    "verify = pd.read_csv('bingo3c_result.csv')\n",
    "print(sum(verify['true_label'] == verify['kmeans_result'])) #281/500 = 56.2%\n",
    "print(sum(verify['true_label'] == verify['gmm_result'])) #276/500 = 55.2%\n",
    "print(sum(verify['true_label'] == verify['spectral_result'])) #278/500 = 55.6%"
   ]
  }
 ],
 "metadata": {
  "kernelspec": {
   "display_name": "Python 3",
   "language": "python",
   "name": "python3"
  },
  "language_info": {
   "codemirror_mode": {
    "name": "ipython",
    "version": 3
   },
   "file_extension": ".py",
   "mimetype": "text/x-python",
   "name": "python",
   "nbconvert_exporter": "python",
   "pygments_lexer": "ipython3",
   "version": "3.8.5"
  },
  "orig_nbformat": 4
 },
 "nbformat": 4,
 "nbformat_minor": 2
}
